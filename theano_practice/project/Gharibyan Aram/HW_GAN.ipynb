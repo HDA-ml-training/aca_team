{
 "cells": [
  {
   "cell_type": "markdown",
   "metadata": {},
   "source": [
    "This requires you to write a 2D GAN game. I let you to get into the topic yourself, whitout any explonations from my side. You can watch internet, read papers and tutorials (fun, fun, fun)."
   ]
  },
  {
   "cell_type": "markdown",
   "metadata": {},
   "source": [
    "### Homework"
   ]
  },
  {
   "cell_type": "markdown",
   "metadata": {
    "collapsed": true
   },
   "source": [
    "I want you to implement a simple 2D GAN game. The kind of animation, I want to see is like in [this video](https://www.youtube.com/watch?v=KeJINHjyzOU) at 15:30 or in [here](https://habrahabr.ru/post/275429/) but in 2D. You can google, search code at github, whatever, but the network should be based on Theano. \n",
    "\n",
    "Basically you will need to come up with true distribution $P$, say mixture of gaussians (surprise me), sample some data from it. Visualize it as a heatmap. To visualize $G$ density you can fix $N$ noise vectors $\\{z_i\\} \\quad i=1,\\dots, N$ and draw a circle for each $G(z_i)$. It is also funny to visualize discriminator as a vector field (can be done with `plt.arrow`, `plt.quiver plo). Look how it should be in the middle of [this page](http://www.inference.vc/an-alternative-update-rule-for-generative-adversarial-networks/).\n",
    "\n",
    "Please, make sure your code works if 'Run All' is pressed and it draws some animation.\n",
    "\n",
    "Good luck!"
   ]
  },
  {
   "cell_type": "code",
   "execution_count": 132,
   "metadata": {
    "collapsed": false
   },
   "outputs": [],
   "source": [
    "import numpy as np\n",
    "import lasagne\n",
    "import theano\n",
    "import theano.tensor as T\n",
    "from lasagne.nonlinearities import rectify, sigmoid, linear, tanh\n",
    "import matplotlib.pyplot as plt\n",
    "%matplotlib inline"
   ]
  },
  {
   "cell_type": "code",
   "execution_count": 133,
   "metadata": {
    "collapsed": false
   },
   "outputs": [
    {
     "name": "stdout",
     "output_type": "stream",
     "text": [
      "(50000, 1, 28, 28) (50000,)\n"
     ]
    },
    {
     "data": {
      "image/png": "[encoded data removed]",
      "text/plain": [
       "<matplotlib.figure.Figure at 0x1aa18853cf8>"
      ]
     },
     "metadata": {},
     "output_type": "display_data"
    }
   ],
   "source": [
    "from mnist import load_dataset\n",
    "X_train,y_train,X_val,y_val,X_test,y_test = load_dataset()\n",
    "plt.imshow(X_train[4].reshape(28, 28),cmap='Greys')\n",
    "print(X_train.shape,y_train.shape)"
   ]
  },
  {
   "cell_type": "code",
   "execution_count": 134,
   "metadata": {
    "collapsed": true
   },
   "outputs": [],
   "source": [
    "def sample_noise(M):\n",
    "    return np.float32(np.linspace(-5.0, 5.0, M) + np.random.random(M) * 0.01).reshape(M,1)"
   ]
  },
  {
   "cell_type": "code",
   "execution_count": 135,
   "metadata": {
    "collapsed": true
   },
   "outputs": [],
   "source": [
    "G_input = T.matrix('Gx')"
   ]
  },
  {
   "cell_type": "code",
   "execution_count": 136,
   "metadata": {
    "collapsed": false
   },
   "outputs": [],
   "source": [
    "G_l1 = lasagne.layers.InputLayer((None, 1), G_input)\n",
    "G_l2 = lasagne.layers.DenseLayer(G_l1, 64, nonlinearity=rectify)\n",
    "G_l3 = lasagne.layers.DropoutLayer(G_l2, 0.5)\n",
    "G_l4 = lasagne.layers.DenseLayer(G_l3, 256, nonlinearity=rectify)\n",
    "G_l5 = lasagne.layers.DropoutLayer(G_l4, 0.5)\n",
    "G_l6 = lasagne.layers.DenseLayer(G_l5, 784, nonlinearity=linear)\n",
    "G_l7 = lasagne.layers.ReshapeLayer(G_l6,(-1,1,28,28))\n",
    "G = G_l7\n",
    "G_out = lasagne.layers.get_output(G)"
   ]
  },
  {
   "cell_type": "code",
   "execution_count": 137,
   "metadata": {
    "collapsed": true
   },
   "outputs": [],
   "source": [
    "D1_input = T.tensor4(\"D1X\")"
   ]
  },
  {
   "cell_type": "code",
   "execution_count": 138,
   "metadata": {
    "collapsed": false
   },
   "outputs": [],
   "source": [
    "#D1_target = T.matrix('D1y')\n",
    "D1_l1 = lasagne.layers.InputLayer((None, 1,28,28), D1_input)\n",
    "D1_l2 = lasagne.layers.DenseLayer(D1_l1, 256, nonlinearity=tanh)\n",
    "D1_l3 = lasagne.layers.DropoutLayer(D1_l2, 0.5)\n",
    "D1_l4 = lasagne.layers.DenseLayer(D1_l3, 64, nonlinearity=tanh)\n",
    "D1_l5 = lasagne.layers.DropoutLayer(D1_l4, 0.5)\n",
    "D1_l6 = lasagne.layers.DenseLayer(D1_l5, 1, nonlinearity=sigmoid)\n",
    "D1 = D1_l6"
   ]
  },
  {
   "cell_type": "code",
   "execution_count": 139,
   "metadata": {
    "collapsed": false
   },
   "outputs": [],
   "source": [
    "D2_l1 = lasagne.layers.InputLayer((None, 1,28,28), G_out)\n",
    "D2_l2 = lasagne.layers.DenseLayer(D2_l1, 256, nonlinearity=tanh, W=D1_l2.W, b=D1_l2.b)\n",
    "D2_l3 = lasagne.layers.DropoutLayer(D2_l2, 0.5)\n",
    "D2_l4 = lasagne.layers.DenseLayer(D2_l3, 64, nonlinearity=tanh, W=D1_l4.W, b=D1_l4.b)\n",
    "D2_l5 = lasagne.layers.DropoutLayer(D2_l4, 0.5)\n",
    "D2_l6 = lasagne.layers.DenseLayer(D2_l5, 1, nonlinearity=sigmoid, W=D1_l6.W, b=D1_l6.b)\n",
    "D2 = D2_l6"
   ]
  },
  {
   "cell_type": "code",
   "execution_count": 140,
   "metadata": {
    "collapsed": true
   },
   "outputs": [],
   "source": [
    "D1_out = lasagne.layers.get_output(D1)\n",
    "D2_out = lasagne.layers.get_output(D2)"
   ]
  },
  {
   "cell_type": "code",
   "execution_count": 141,
   "metadata": {
    "collapsed": true
   },
   "outputs": [],
   "source": [
    "G_obj = (T.log(D2_out)).mean()\n",
    "D_obj = (T.log(D1_out) + T.log(1 - D2_out)).mean()"
   ]
  },
  {
   "cell_type": "code",
   "execution_count": 142,
   "metadata": {
    "collapsed": false
   },
   "outputs": [],
   "source": [
    "G_params = lasagne.layers.get_all_params(G, trainable=True)\n",
    "G_lr = theano.shared(np.array(0.01, dtype=theano.config.floatX))\n",
    "G_updates = lasagne.updates.nesterov_momentum(1 - G_obj, G_params, learning_rate=G_lr, momentum=0.6)\n",
    "G_train = theano.function([G_input], G_obj, updates=G_updates)"
   ]
  },
  {
   "cell_type": "code",
   "execution_count": 143,
   "metadata": {
    "collapsed": false
   },
   "outputs": [],
   "source": [
    "D_params = lasagne.layers.get_all_params(D1, trainable=True)\n",
    "D_lr = theano.shared(np.array(0.1, dtype=theano.config.floatX))\n",
    "D_updates = lasagne.updates.nesterov_momentum(1 - D_obj, D_params, learning_rate=D_lr, momentum=0.6)\n",
    "D_train = theano.function([G_input, D1_input], D_obj, updates=D_updates)\n"
   ]
  },
  {
   "cell_type": "code",
   "execution_count": 144,
   "metadata": {
    "collapsed": true
   },
   "outputs": [],
   "source": [
    "G_output = theano.function([G_input], G_out)"
   ]
  },
  {
   "cell_type": "code",
   "execution_count": 149,
   "metadata": {
    "collapsed": true
   },
   "outputs": [],
   "source": [
    "def iterate_minibatches(inputs, batchsize):\n",
    "    indices = np.arange(len(inputs))\n",
    "    np.random.shuffle(indices)\n",
    "    for start_idx in range(0, len(inputs) - batchsize + 1, batchsize):\n",
    "        excerpt = indices[start_idx:start_idx + batchsize]\n",
    "    return inputs[excerpt]"
   ]
  },
  {
   "cell_type": "code",
   "execution_count": 150,
   "metadata": {
    "collapsed": false
   },
   "outputs": [],
   "source": [
    "import matplotlib.pyplot as plt\n",
    "epochs = 5000\n",
    "k = 500\n",
    "M = 200  # mini-batch size\n",
    "mu = 3\n",
    "sigma = 0.5\n",
    "for i in range(epochs):\n",
    "    x = iterate_minibatches(X_train,k)\n",
    "    z = sample_noise(k)\n",
    "    D_train(z, x)\n",
    "    z = sample_noise(M)\n",
    "    G_train(z)\n",
    "    if i % 10 == 0:\n",
    "        G_lr *= 0.999\n",
    "        D_lr *= 0.999\n",
    "        "
   ]
  },
  {
   "cell_type": "code",
   "execution_count": 171,
   "metadata": {
    "collapsed": false
   },
   "outputs": [
    {
     "data": {
      "text/plain": [
       "<matplotlib.image.AxesImage at 0x1aa2222a978>"
      ]
     },
     "execution_count": 171,
     "metadata": {},
     "output_type": "execute_result"
    },
    {
     "data": {
      "image/png": "[encoded data removed]",
      "text/plain": [
       "<matplotlib.figure.Figure at 0x1aa221cbe80>"
      ]
     },
     "metadata": {},
     "output_type": "display_data"
    }
   ],
   "source": [
    "z = sample_noise(1)\n",
    "plt.imshow(G_output(z).reshape(28, 28),cmap='Greys')"
   ]
  },
  {
   "cell_type": "code",
   "execution_count": null,
   "metadata": {
    "collapsed": true
   },
   "outputs": [],
   "source": []
  }
 ],
 "metadata": {
  "kernelspec": {
   "display_name": "Python 3",
   "language": "python",
   "name": "python3"
  },
  "language_info": {
   "codemirror_mode": {
    "name": "ipython",
    "version": 3
   },
   "file_extension": ".py",
   "mimetype": "text/x-python",
   "name": "python",
   "nbconvert_exporter": "python",
   "pygments_lexer": "ipython3",
   "version": "3.6.0"
  }
 },
 "nbformat": 4,
 "nbformat_minor": 1
}
